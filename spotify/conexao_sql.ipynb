{
 "cells": [
  {
   "cell_type": "code",
   "execution_count": 1,
   "metadata": {},
   "outputs": [],
   "source": [
    "import psycopg2\n",
    "from psycopg2 import Error"
   ]
  },
  {
   "cell_type": "markdown",
   "metadata": {},
   "source": [
    "- Função que estabelece conexão com o SQL\n",
    "- Pode adicionar \"db_name\" como parâmetro"
   ]
  },
  {
   "cell_type": "code",
   "execution_count": 3,
   "metadata": {},
   "outputs": [
    {
     "name": "stdout",
     "output_type": "stream",
     "text": [
      "Conexão estabelecida com sucesso!!!\n"
     ]
    }
   ],
   "source": [
    "def create_server_conection(host_name, user_name, user_password):\n",
    "    connection = None   #Encerra qualquer conexão remanescente\n",
    "    try:\n",
    "        connection = psycopg2.connect(\n",
    "            host = host_name,\n",
    "            user = user_name,\n",
    "            password = user_password\n",
    "        ) \n",
    "        print(\"Conexão estabelecida com sucesso!!!\")\n",
    "    except Error as err:\n",
    "        print(f\"Error: {err}\")\n",
    "    return connection\n",
    "\n",
    "connection = create_server_conection(\"localhost\", \"postgres\", \"quickscope1\")\n",
    "connection.set_isolation_level(psycopg2.extensions.ISOLATION_LEVEL_AUTOCOMMIT) #indica o fim normal da transação - trecho para resolver erro"
   ]
  },
  {
   "cell_type": "markdown",
   "metadata": {},
   "source": [
    "- Função quer cria um banco de dados"
   ]
  },
  {
   "cell_type": "code",
   "execution_count": null,
   "metadata": {},
   "outputs": [],
   "source": [
    "def create_database(connection, query): \n",
    "    cursor = connection.cursor()\n",
    "    try:\n",
    "        cursor.execute(query) #Dá acesso ao cursor que fica piscando em um terminal do SQL\n",
    "        print(\"Database criada com sucesso!!!\")\n",
    "    except Error as err:\n",
    "        print(f\"Error: {err}\")\n",
    "\n",
    "create_database_query = \"CREATE DATABASE spotify\"\n",
    "create_database(connection, create_database_query)"
   ]
  },
  {
   "cell_type": "markdown",
   "metadata": {},
   "source": [
    "- Função para execução de consultas\n",
    "- Qualquer ação sobre o database será através dessa função"
   ]
  },
  {
   "cell_type": "code",
   "execution_count": 4,
   "metadata": {},
   "outputs": [],
   "source": [
    "def execute_query(connection, query):\n",
    "    cursor = connection.cursor()\n",
    "    try:\n",
    "        cursor.execute(query)\n",
    "        connection.commit() # Garante que os comandos detalhados sejam implementados\n",
    "        print(\"Query realizada com sucesso!!!\")\n",
    "    except Error as err:\n",
    "        print(f\"Error: {err}\")"
   ]
  },
  {
   "cell_type": "markdown",
   "metadata": {},
   "source": [
    "- Criando tabelas"
   ]
  },
  {
   "cell_type": "code",
   "execution_count": null,
   "metadata": {},
   "outputs": [],
   "source": [
    "connection = create_server_conection(\"localhost\", \"postgres\", \"quickscope1\")\n",
    "\n",
    "create_table = \"\"\"\n",
    "CREATE TABLE spotify_data(\n",
    "user_id INT PRIMARY KEY,\n",
    "ISBN VARCHAR(11) NOT NULL,\n",
    "book_rating INT\n",
    ");\n",
    "\"\"\"\n",
    "\n",
    "execute_query(connection, create_table)"
   ]
  },
  {
   "cell_type": "markdown",
   "metadata": {},
   "source": [
    "- Inserindo dados na tabela"
   ]
  }
 ],
 "metadata": {
  "kernelspec": {
   "display_name": "Python 3",
   "language": "python",
   "name": "python3"
  },
  "language_info": {
   "codemirror_mode": {
    "name": "ipython",
    "version": 3
   },
   "file_extension": ".py",
   "mimetype": "text/x-python",
   "name": "python",
   "nbconvert_exporter": "python",
   "pygments_lexer": "ipython3",
   "version": "3.11.5"
  }
 },
 "nbformat": 4,
 "nbformat_minor": 2
}
